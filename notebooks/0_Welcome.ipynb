{
  "nbformat": 4,
  "nbformat_minor": 0,
  "metadata": {
    "colab": {
      "provenance": [],
      "authorship_tag": "ABX9TyNWkXWZcOS7rWBfRvvLTp8Q",
      "include_colab_link": true
    },
    "kernelspec": {
      "name": "python3",
      "display_name": "Python 3"
    },
    "language_info": {
      "name": "python"
    }
  },
  "cells": [
    {
      "cell_type": "markdown",
      "metadata": {
        "id": "view-in-github",
        "colab_type": "text"
      },
      "source": [
        "<a href=\"https://colab.research.google.com/github/timmonspatrick/CECAM-Binding-Workshop-2025/blob/main/notebooks/0_Welcome.ipynb\" target=\"_parent\"><img src=\"https://colab.research.google.com/assets/colab-badge.svg\" alt=\"Open In Colab\"/></a>"
      ]
    },
    {
      "cell_type": "markdown",
      "source": [
        "# **Workshop: Generating Protein-Binding Peptides**\n",
        "\n",
        "### Objective\n",
        "We’ll walk through an end-to-end workflow for designing peptides that bind to the cancer-related protein MDM2.\n",
        "\n",
        "### Learning Goals\n",
        "*    Understand how to evaluate a protein as a binding target.\n",
        "*    Generate novel peptide candidates with modern AI methods.\n",
        "*    Predict and evaluate peptide–protein binding with Boltz-2.\n",
        "*    Rank candidates based on structural confidence metrics.\n",
        "\n",
        "## 🧬MDM2 as a Protein Target\n",
        "The MDM2 protein (Mouse Double Minute 2 homolog) is an E3 ubiquitin ligase that plays a central role in regulating the tumor suppressor p53. Under normal conditions, MDM2 binds to p53 and tags it for degradation, keeping p53 levels low.\n",
        "\n",
        "This interaction is crucial because p53 acts as a “guardian of the genome”, triggering DNA repair, cell cycle arrest, or apoptosis in response to stress or DNA damage. When MDM2 binds and inhibits p53 too strongly, it can silence this defense mechanism, which is one reason MDM2 is often overexpressed in cancers.\n",
        "\n",
        "**Model System**\n",
        "\n",
        "The p53–MDM2 interaction is well studied and one of the most famous examples of a peptide–protein interaction in cancer biology.\n",
        "*   MDM2 regulates p53, which controls cell cycle and apoptosis.\n",
        "*   Overactive MDM2 suppresses p53 → linked to cancer.\n",
        "*   MDM2 binds a short peptide from p53 (residues 17–29) in a clearly defined hydrophobic pocket.\n",
        "\n",
        "The MDM2 binding domain is relatively small (~110 amino acids), making it computationally manageable for a short workshop!\n",
        "\n",
        "There are many experimental structures available (e.g. PDB: 1YCR), providing reliable references for validation.\n",
        "\n",
        "**Forget most of that!**\n",
        "\n",
        "We'll assume that no experimental structures exist and that the binding pocket is unknown.\n",
        "\n",
        "We will work with three assumptions:\n",
        "\n",
        "&bull; We want to target this protein because it's suspected to bind to p53 peptide.\n",
        "&bull; We have a UniProt ID for this protein: Q00987.\n",
        "&bull; UniProt will inform us which domains are necessary for the p53 interaction.\n",
        "\n",
        "\n",
        "# **Workshop Outline**\n",
        "Protein (MDM2) → Pocket Analysis (AF2Bind) →\n",
        "Peptide Generation (RFDiffusion, MPNN, ESM-IF1) →\n",
        "Peptide–Protein Cofolding (Boltz-2) → Evaluation & Ranking\n",
        "\n",
        "## [1. Protein Setup & Visualization (15 min)](https://colab.research.google.com/github/timmonspatrick/CECAM-Binding-Workshop-2025/blob/main/notebooks/1_Protein_Setup_Visualization.ipynb)\n",
        "*   Retrieve MDM2 sequence (UniProt).\n",
        "*   Live fold with Boltz-2.\n",
        "*   Visualize structure in py3Dmol.\n",
        "*   Select binding domain + p53 pocket.\n",
        "*   Fold just the selected substructure.\n",
        "\n",
        "## [2. Target Feasibility: AF2Bind (15 min)](https://colab.research.google.com/github/timmonspatrick/CECAM-Binding-Workshop-2025/blob/main/notebooks/2_Target_Feasibility.ipynb)\n",
        "*   Run AF2Bind.\n",
        "*   Assess feasibility of the protein.\n",
        "*   Identify and visualise hotspot residues.\n",
        "\n",
        "## [3. Generating Candidate Peptide Backbones (15 min)](https://colab.research.google.com/github/timmonspatrick/CECAM-Binding-Workshop-2025/blob/main/notebooks/3_Backbone_Generation.ipynb)\n",
        "*   Generate peptide backbone candidates with RFDiffusion.\n",
        "\n",
        "## [4. Generating Candidate Peptide Sequences (15 min)](https://colab.research.google.com/github/timmonspatrick/CECAM-Binding-Workshop-2025/blob/main/notebooks/4_Peptide_Generation.ipynb)\n",
        "*   Convert backbone → sequences with ProteinMPNN and ESM-IF1.\n",
        "\n",
        "## [5. Co-Folding & Evaluation (15 min)](https://colab.research.google.com/github/timmonspatrick/CECAM-Binding-Workshop-2025/blob/main/notebooks/5_CoFolding_Evaluation.ipynb)\n",
        "*   Co-fold MDM2 + peptide with Boltz-2 (~10 sec each).\n",
        "*   Extract metrics:\n",
        "    -   Number of contacts (peptide ↔ hotspot).\n",
        "    -   iPAE values (peptide ↔ hotspot).\n",
        "*   Rank peptides by metrics.\n",
        "*   Compare to known p53 peptide binding pose.\n",
        "\n",
        "# Tool List\n",
        "*    UniProt Database\n",
        "*    Boltz-2: fast structure/cofold predictor.\n",
        "*    AF2Bind: finds binding hotspots in proteins.\n",
        "*    RFDiffusion: generates new backbones conditioned on binding pockets.\n",
        "*    ProteinMPNN / ESM-IF1: convert backbones into sequences.\n",
        "*    py3Dmol: visualize structures directly in Colab.\n",
        "\n",
        "# Metrics to Pay Attention To\n",
        "*    pLDDT → confidence in local structure.\n",
        "*    iPAE → confidence in relative positions of protein vs peptide.\n",
        "*    Contacts → number of close interactions between peptide & hotspot residues.\n",
        "*    Hotspot-based scoring → focusing only on critical residues.\n"
      ],
      "metadata": {
        "id": "BwTXZJI0ahUY"
      }
    }
  ]
}